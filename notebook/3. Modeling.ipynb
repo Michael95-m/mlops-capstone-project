{
 "cells": [
  {
   "cell_type": "code",
   "execution_count": 1,
   "id": "fe9c765e",
   "metadata": {},
   "outputs": [],
   "source": [
    "import pandas as pd\n",
    "import numpy as np\n",
    "from sklearn.linear_model import LogisticRegression\n",
    "from sklearn.ensemble import RandomForestClassifier\n",
    "from sklearn.feature_extraction import DictVectorizer\n",
    "import xgboost as xgb"
   ]
  },
  {
   "cell_type": "code",
   "execution_count": 2,
   "id": "87dd06dd",
   "metadata": {},
   "outputs": [],
   "source": [
    "from sklearn.metrics import f1_score, roc_auc_score, precision_score, recall_score"
   ]
  },
  {
   "cell_type": "code",
   "execution_count": 3,
   "id": "20681f23",
   "metadata": {},
   "outputs": [],
   "source": [
    "train = pd.read_csv(\"../data/processed/train.csv\")\n",
    "valid = pd.read_csv(\"../data/processed/valid.csv\")"
   ]
  },
  {
   "cell_type": "code",
   "execution_count": 4,
   "id": "43be9de0",
   "metadata": {},
   "outputs": [
    {
     "data": {
      "text/plain": [
       "(72109, 12018)"
      ]
     },
     "execution_count": 4,
     "metadata": {},
     "output_type": "execute_result"
    }
   ],
   "source": [
    "len(train), len(valid)"
   ]
  },
  {
   "cell_type": "code",
   "execution_count": 5,
   "id": "86639f62",
   "metadata": {},
   "outputs": [
    {
     "data": {
      "text/plain": [
       "Index(['gender', 'age', 'hypertension', 'heart_disease', 'smoking_history',\n",
       "       'bmi', 'HbA1c_level', 'blood_glucose_level', 'diabetes'],\n",
       "      dtype='object')"
      ]
     },
     "execution_count": 5,
     "metadata": {},
     "output_type": "execute_result"
    }
   ],
   "source": [
    "train.columns"
   ]
  },
  {
   "cell_type": "markdown",
   "id": "3bb148a3",
   "metadata": {},
   "source": [
    "## prepare features"
   ]
  },
  {
   "cell_type": "code",
   "execution_count": 6,
   "id": "867e049e",
   "metadata": {},
   "outputs": [],
   "source": [
    "target_var = \"diabetes\""
   ]
  },
  {
   "cell_type": "code",
   "execution_count": 7,
   "id": "5ea99995",
   "metadata": {},
   "outputs": [],
   "source": [
    "cat_vars = [col for col in train.columns.values if train[col].dtype == \"O\" and col != target_var]"
   ]
  },
  {
   "cell_type": "code",
   "execution_count": 8,
   "id": "0fbd687d",
   "metadata": {},
   "outputs": [
    {
     "data": {
      "text/plain": [
       "['gender', 'smoking_history']"
      ]
     },
     "execution_count": 8,
     "metadata": {},
     "output_type": "execute_result"
    }
   ],
   "source": [
    "cat_vars"
   ]
  },
  {
   "cell_type": "code",
   "execution_count": 9,
   "id": "e7e031ef",
   "metadata": {},
   "outputs": [],
   "source": [
    "num_vars = [col for col in train.columns.values if train[col].dtype in [\"int64\", \"float64\"] and col != target_var]"
   ]
  },
  {
   "cell_type": "code",
   "execution_count": 10,
   "id": "6ac4c641",
   "metadata": {},
   "outputs": [
    {
     "data": {
      "text/plain": [
       "['age',\n",
       " 'hypertension',\n",
       " 'heart_disease',\n",
       " 'bmi',\n",
       " 'HbA1c_level',\n",
       " 'blood_glucose_level']"
      ]
     },
     "execution_count": 10,
     "metadata": {},
     "output_type": "execute_result"
    }
   ],
   "source": [
    "num_vars"
   ]
  },
  {
   "cell_type": "markdown",
   "id": "add67095",
   "metadata": {},
   "source": [
    "## prepare data"
   ]
  },
  {
   "cell_type": "code",
   "execution_count": 11,
   "id": "edc6f2c7",
   "metadata": {},
   "outputs": [],
   "source": [
    "x_train = train.drop(target_var, axis=1)\n",
    "y_train = train[target_var]"
   ]
  },
  {
   "cell_type": "code",
   "execution_count": 12,
   "id": "5de16c82",
   "metadata": {},
   "outputs": [],
   "source": [
    "x_valid = valid.drop(target_var, axis=1)\n",
    "y_valid = valid[target_var]"
   ]
  },
  {
   "cell_type": "markdown",
   "id": "3d47ad5f",
   "metadata": {},
   "source": [
    "## Preprocessing "
   ]
  },
  {
   "cell_type": "markdown",
   "id": "5ad456ec",
   "metadata": {},
   "source": [
    "### Preprocessing for tree-based models"
   ]
  },
  {
   "cell_type": "code",
   "execution_count": 13,
   "id": "98658ea8",
   "metadata": {},
   "outputs": [],
   "source": [
    "dv = DictVectorizer()"
   ]
  },
  {
   "cell_type": "code",
   "execution_count": 14,
   "id": "56baf78f",
   "metadata": {},
   "outputs": [],
   "source": [
    "train_dict = x_train.to_dict(orient=\"records\")\n",
    "val_dict = x_valid.to_dict(orient=\"records\")"
   ]
  },
  {
   "cell_type": "code",
   "execution_count": 15,
   "id": "97319caa",
   "metadata": {},
   "outputs": [],
   "source": [
    "X_train = dv.fit_transform(train_dict)\n",
    "X_valid = dv.transform(val_dict)"
   ]
  },
  {
   "cell_type": "markdown",
   "id": "5c4c2204",
   "metadata": {},
   "source": [
    "### Preprocessing for logistic regression"
   ]
  },
  {
   "cell_type": "code",
   "execution_count": 16,
   "id": "d8892094",
   "metadata": {},
   "outputs": [],
   "source": [
    "from sklearn.pipeline import Pipeline\n",
    "from sklearn.preprocessing import StandardScaler, OneHotEncoder\n",
    "from sklearn.compose import ColumnTransformer"
   ]
  },
  {
   "cell_type": "code",
   "execution_count": 17,
   "id": "2076f330",
   "metadata": {},
   "outputs": [],
   "source": [
    "preprocessor = ColumnTransformer([\n",
    "    ('num', StandardScaler(), num_vars),\n",
    "    ('cat', OneHotEncoder(), cat_vars)\n",
    "])"
   ]
  },
  {
   "cell_type": "code",
   "execution_count": 18,
   "id": "e7ea1a0f",
   "metadata": {},
   "outputs": [],
   "source": [
    "pp_pipe = Pipeline(\n",
    "    [\n",
    "        (\"preprocessor\", preprocessor)\n",
    "    ]\n",
    "\n",
    ")"
   ]
  },
  {
   "cell_type": "code",
   "execution_count": 19,
   "id": "b3f0b7a3",
   "metadata": {},
   "outputs": [],
   "source": [
    "x_train_logreg = pp_pipe.fit_transform(x_train)\n",
    "x_valid_logreg = pp_pipe.transform(x_valid)"
   ]
  },
  {
   "cell_type": "markdown",
   "id": "3483e8f1",
   "metadata": {},
   "source": [
    "## Modeling"
   ]
  },
  {
   "cell_type": "markdown",
   "id": "12c66bda",
   "metadata": {},
   "source": [
    "### Logistic Regression"
   ]
  },
  {
   "cell_type": "code",
   "execution_count": 20,
   "id": "e7d52724",
   "metadata": {},
   "outputs": [],
   "source": [
    "def model_eval(y_true, y_pred, y_pred_prob):\n",
    "    auc = roc_auc_score(y_true, y_pred_prob)\n",
    "    print(f\"AUC for logisitc regrssion is: {auc:.3f}\")\n",
    "    f1 = f1_score(y_true, y_pred)\n",
    "    print(f\"f1 score is: {f1:.3f}\")\n",
    "    precision = precision_score(y_true, y_pred)\n",
    "    print(f\"Precision score is: {precision:.3f}\")\n",
    "    recall = recall_score(y_true, y_pred)\n",
    "    print(f\"Recall score is: {recall:.3f}\")\n",
    "    "
   ]
  },
  {
   "cell_type": "code",
   "execution_count": 21,
   "id": "1f8de7b9",
   "metadata": {},
   "outputs": [],
   "source": [
    "log_reg = LogisticRegression()"
   ]
  },
  {
   "cell_type": "code",
   "execution_count": 22,
   "id": "7472a8d5",
   "metadata": {},
   "outputs": [
    {
     "data": {
      "text/html": [
       "<style>#sk-container-id-1 {color: black;background-color: white;}#sk-container-id-1 pre{padding: 0;}#sk-container-id-1 div.sk-toggleable {background-color: white;}#sk-container-id-1 label.sk-toggleable__label {cursor: pointer;display: block;width: 100%;margin-bottom: 0;padding: 0.3em;box-sizing: border-box;text-align: center;}#sk-container-id-1 label.sk-toggleable__label-arrow:before {content: \"▸\";float: left;margin-right: 0.25em;color: #696969;}#sk-container-id-1 label.sk-toggleable__label-arrow:hover:before {color: black;}#sk-container-id-1 div.sk-estimator:hover label.sk-toggleable__label-arrow:before {color: black;}#sk-container-id-1 div.sk-toggleable__content {max-height: 0;max-width: 0;overflow: hidden;text-align: left;background-color: #f0f8ff;}#sk-container-id-1 div.sk-toggleable__content pre {margin: 0.2em;color: black;border-radius: 0.25em;background-color: #f0f8ff;}#sk-container-id-1 input.sk-toggleable__control:checked~div.sk-toggleable__content {max-height: 200px;max-width: 100%;overflow: auto;}#sk-container-id-1 input.sk-toggleable__control:checked~label.sk-toggleable__label-arrow:before {content: \"▾\";}#sk-container-id-1 div.sk-estimator input.sk-toggleable__control:checked~label.sk-toggleable__label {background-color: #d4ebff;}#sk-container-id-1 div.sk-label input.sk-toggleable__control:checked~label.sk-toggleable__label {background-color: #d4ebff;}#sk-container-id-1 input.sk-hidden--visually {border: 0;clip: rect(1px 1px 1px 1px);clip: rect(1px, 1px, 1px, 1px);height: 1px;margin: -1px;overflow: hidden;padding: 0;position: absolute;width: 1px;}#sk-container-id-1 div.sk-estimator {font-family: monospace;background-color: #f0f8ff;border: 1px dotted black;border-radius: 0.25em;box-sizing: border-box;margin-bottom: 0.5em;}#sk-container-id-1 div.sk-estimator:hover {background-color: #d4ebff;}#sk-container-id-1 div.sk-parallel-item::after {content: \"\";width: 100%;border-bottom: 1px solid gray;flex-grow: 1;}#sk-container-id-1 div.sk-label:hover label.sk-toggleable__label {background-color: #d4ebff;}#sk-container-id-1 div.sk-serial::before {content: \"\";position: absolute;border-left: 1px solid gray;box-sizing: border-box;top: 0;bottom: 0;left: 50%;z-index: 0;}#sk-container-id-1 div.sk-serial {display: flex;flex-direction: column;align-items: center;background-color: white;padding-right: 0.2em;padding-left: 0.2em;position: relative;}#sk-container-id-1 div.sk-item {position: relative;z-index: 1;}#sk-container-id-1 div.sk-parallel {display: flex;align-items: stretch;justify-content: center;background-color: white;position: relative;}#sk-container-id-1 div.sk-item::before, #sk-container-id-1 div.sk-parallel-item::before {content: \"\";position: absolute;border-left: 1px solid gray;box-sizing: border-box;top: 0;bottom: 0;left: 50%;z-index: -1;}#sk-container-id-1 div.sk-parallel-item {display: flex;flex-direction: column;z-index: 1;position: relative;background-color: white;}#sk-container-id-1 div.sk-parallel-item:first-child::after {align-self: flex-end;width: 50%;}#sk-container-id-1 div.sk-parallel-item:last-child::after {align-self: flex-start;width: 50%;}#sk-container-id-1 div.sk-parallel-item:only-child::after {width: 0;}#sk-container-id-1 div.sk-dashed-wrapped {border: 1px dashed gray;margin: 0 0.4em 0.5em 0.4em;box-sizing: border-box;padding-bottom: 0.4em;background-color: white;}#sk-container-id-1 div.sk-label label {font-family: monospace;font-weight: bold;display: inline-block;line-height: 1.2em;}#sk-container-id-1 div.sk-label-container {text-align: center;}#sk-container-id-1 div.sk-container {/* jupyter's `normalize.less` sets `[hidden] { display: none; }` but bootstrap.min.css set `[hidden] { display: none !important; }` so we also need the `!important` here to be able to override the default hidden behavior on the sphinx rendered scikit-learn.org. See: https://github.com/scikit-learn/scikit-learn/issues/21755 */display: inline-block !important;position: relative;}#sk-container-id-1 div.sk-text-repr-fallback {display: none;}</style><div id=\"sk-container-id-1\" class=\"sk-top-container\"><div class=\"sk-text-repr-fallback\"><pre>LogisticRegression()</pre><b>In a Jupyter environment, please rerun this cell to show the HTML representation or trust the notebook. <br />On GitHub, the HTML representation is unable to render, please try loading this page with nbviewer.org.</b></div><div class=\"sk-container\" hidden><div class=\"sk-item\"><div class=\"sk-estimator sk-toggleable\"><input class=\"sk-toggleable__control sk-hidden--visually\" id=\"sk-estimator-id-1\" type=\"checkbox\" checked><label for=\"sk-estimator-id-1\" class=\"sk-toggleable__label sk-toggleable__label-arrow\">LogisticRegression</label><div class=\"sk-toggleable__content\"><pre>LogisticRegression()</pre></div></div></div></div></div>"
      ],
      "text/plain": [
       "LogisticRegression()"
      ]
     },
     "execution_count": 22,
     "metadata": {},
     "output_type": "execute_result"
    }
   ],
   "source": [
    "log_reg.fit(x_train_logreg, y_train)"
   ]
  },
  {
   "cell_type": "code",
   "execution_count": 23,
   "id": "c9ba9d94",
   "metadata": {},
   "outputs": [],
   "source": [
    "y_pred_prob = log_reg.predict_proba(x_valid_logreg)\n",
    "y_pred_prob = y_pred_prob[:, 1]"
   ]
  },
  {
   "cell_type": "code",
   "execution_count": 24,
   "id": "85f8d977",
   "metadata": {},
   "outputs": [],
   "source": [
    "y_pred = log_reg.predict(x_valid_logreg)"
   ]
  },
  {
   "cell_type": "code",
   "execution_count": 25,
   "id": "71738f6d",
   "metadata": {},
   "outputs": [
    {
     "name": "stdout",
     "output_type": "stream",
     "text": [
      "AUC for logisitc regrssion is: 0.963\n",
      "f1 score is: 0.734\n",
      "Precision score is: 0.873\n",
      "Recall score is: 0.633\n"
     ]
    }
   ],
   "source": [
    "model_eval(y_valid, y_pred, y_pred_prob)"
   ]
  },
  {
   "cell_type": "markdown",
   "id": "77c2743d",
   "metadata": {},
   "source": [
    "### Random Forest regressor"
   ]
  },
  {
   "cell_type": "code",
   "execution_count": 26,
   "id": "987ed418",
   "metadata": {},
   "outputs": [
    {
     "data": {
      "text/html": [
       "<style>#sk-container-id-2 {color: black;background-color: white;}#sk-container-id-2 pre{padding: 0;}#sk-container-id-2 div.sk-toggleable {background-color: white;}#sk-container-id-2 label.sk-toggleable__label {cursor: pointer;display: block;width: 100%;margin-bottom: 0;padding: 0.3em;box-sizing: border-box;text-align: center;}#sk-container-id-2 label.sk-toggleable__label-arrow:before {content: \"▸\";float: left;margin-right: 0.25em;color: #696969;}#sk-container-id-2 label.sk-toggleable__label-arrow:hover:before {color: black;}#sk-container-id-2 div.sk-estimator:hover label.sk-toggleable__label-arrow:before {color: black;}#sk-container-id-2 div.sk-toggleable__content {max-height: 0;max-width: 0;overflow: hidden;text-align: left;background-color: #f0f8ff;}#sk-container-id-2 div.sk-toggleable__content pre {margin: 0.2em;color: black;border-radius: 0.25em;background-color: #f0f8ff;}#sk-container-id-2 input.sk-toggleable__control:checked~div.sk-toggleable__content {max-height: 200px;max-width: 100%;overflow: auto;}#sk-container-id-2 input.sk-toggleable__control:checked~label.sk-toggleable__label-arrow:before {content: \"▾\";}#sk-container-id-2 div.sk-estimator input.sk-toggleable__control:checked~label.sk-toggleable__label {background-color: #d4ebff;}#sk-container-id-2 div.sk-label input.sk-toggleable__control:checked~label.sk-toggleable__label {background-color: #d4ebff;}#sk-container-id-2 input.sk-hidden--visually {border: 0;clip: rect(1px 1px 1px 1px);clip: rect(1px, 1px, 1px, 1px);height: 1px;margin: -1px;overflow: hidden;padding: 0;position: absolute;width: 1px;}#sk-container-id-2 div.sk-estimator {font-family: monospace;background-color: #f0f8ff;border: 1px dotted black;border-radius: 0.25em;box-sizing: border-box;margin-bottom: 0.5em;}#sk-container-id-2 div.sk-estimator:hover {background-color: #d4ebff;}#sk-container-id-2 div.sk-parallel-item::after {content: \"\";width: 100%;border-bottom: 1px solid gray;flex-grow: 1;}#sk-container-id-2 div.sk-label:hover label.sk-toggleable__label {background-color: #d4ebff;}#sk-container-id-2 div.sk-serial::before {content: \"\";position: absolute;border-left: 1px solid gray;box-sizing: border-box;top: 0;bottom: 0;left: 50%;z-index: 0;}#sk-container-id-2 div.sk-serial {display: flex;flex-direction: column;align-items: center;background-color: white;padding-right: 0.2em;padding-left: 0.2em;position: relative;}#sk-container-id-2 div.sk-item {position: relative;z-index: 1;}#sk-container-id-2 div.sk-parallel {display: flex;align-items: stretch;justify-content: center;background-color: white;position: relative;}#sk-container-id-2 div.sk-item::before, #sk-container-id-2 div.sk-parallel-item::before {content: \"\";position: absolute;border-left: 1px solid gray;box-sizing: border-box;top: 0;bottom: 0;left: 50%;z-index: -1;}#sk-container-id-2 div.sk-parallel-item {display: flex;flex-direction: column;z-index: 1;position: relative;background-color: white;}#sk-container-id-2 div.sk-parallel-item:first-child::after {align-self: flex-end;width: 50%;}#sk-container-id-2 div.sk-parallel-item:last-child::after {align-self: flex-start;width: 50%;}#sk-container-id-2 div.sk-parallel-item:only-child::after {width: 0;}#sk-container-id-2 div.sk-dashed-wrapped {border: 1px dashed gray;margin: 0 0.4em 0.5em 0.4em;box-sizing: border-box;padding-bottom: 0.4em;background-color: white;}#sk-container-id-2 div.sk-label label {font-family: monospace;font-weight: bold;display: inline-block;line-height: 1.2em;}#sk-container-id-2 div.sk-label-container {text-align: center;}#sk-container-id-2 div.sk-container {/* jupyter's `normalize.less` sets `[hidden] { display: none; }` but bootstrap.min.css set `[hidden] { display: none !important; }` so we also need the `!important` here to be able to override the default hidden behavior on the sphinx rendered scikit-learn.org. See: https://github.com/scikit-learn/scikit-learn/issues/21755 */display: inline-block !important;position: relative;}#sk-container-id-2 div.sk-text-repr-fallback {display: none;}</style><div id=\"sk-container-id-2\" class=\"sk-top-container\"><div class=\"sk-text-repr-fallback\"><pre>RandomForestClassifier()</pre><b>In a Jupyter environment, please rerun this cell to show the HTML representation or trust the notebook. <br />On GitHub, the HTML representation is unable to render, please try loading this page with nbviewer.org.</b></div><div class=\"sk-container\" hidden><div class=\"sk-item\"><div class=\"sk-estimator sk-toggleable\"><input class=\"sk-toggleable__control sk-hidden--visually\" id=\"sk-estimator-id-2\" type=\"checkbox\" checked><label for=\"sk-estimator-id-2\" class=\"sk-toggleable__label sk-toggleable__label-arrow\">RandomForestClassifier</label><div class=\"sk-toggleable__content\"><pre>RandomForestClassifier()</pre></div></div></div></div></div>"
      ],
      "text/plain": [
       "RandomForestClassifier()"
      ]
     },
     "execution_count": 26,
     "metadata": {},
     "output_type": "execute_result"
    }
   ],
   "source": [
    "rf_cls = RandomForestClassifier()\n",
    "rf_cls.fit(X_train, y_train)"
   ]
  },
  {
   "cell_type": "code",
   "execution_count": 27,
   "id": "280ac27e",
   "metadata": {},
   "outputs": [],
   "source": [
    "y_pred = rf_cls.predict(X_valid)\n",
    "y_pred_prob = rf_cls.predict_proba(X_valid)[:, 1]"
   ]
  },
  {
   "cell_type": "code",
   "execution_count": 28,
   "id": "22764186",
   "metadata": {},
   "outputs": [
    {
     "name": "stdout",
     "output_type": "stream",
     "text": [
      "AUC for logisitc regrssion is: 0.957\n",
      "f1 score is: 0.800\n",
      "Precision score is: 0.954\n",
      "Recall score is: 0.689\n"
     ]
    }
   ],
   "source": [
    "model_eval(y_valid, y_pred, y_pred_prob)"
   ]
  },
  {
   "cell_type": "markdown",
   "id": "34a6bc76",
   "metadata": {},
   "source": [
    "### XGBoost"
   ]
  },
  {
   "cell_type": "code",
   "execution_count": 37,
   "id": "f21ec883",
   "metadata": {},
   "outputs": [],
   "source": [
    "dtrain = xgb.DMatrix(X_train, label=y_train)\n",
    "dvalid = xgb.DMatrix(X_valid, label=y_valid)"
   ]
  },
  {
   "cell_type": "code",
   "execution_count": 38,
   "id": "f94b4411",
   "metadata": {},
   "outputs": [],
   "source": [
    "def f1_eval(y_pred, dtrain):\n",
    "    y_true = dtrain.get_label()\n",
    "    y_pred = (y_pred > 0.5).astype(int)\n",
    "    return 'f1', f1_score(y_true, y_pred)"
   ]
  },
  {
   "cell_type": "code",
   "execution_count": 39,
   "id": "038336b0",
   "metadata": {},
   "outputs": [],
   "source": [
    "params = {\n",
    "    \"objective\": \"binary:logistic\",\n",
    "}"
   ]
  },
  {
   "cell_type": "code",
   "execution_count": 40,
   "id": "025a3a33",
   "metadata": {},
   "outputs": [],
   "source": [
    "num_rounds = 1000"
   ]
  },
  {
   "cell_type": "code",
   "execution_count": 41,
   "id": "e2598436",
   "metadata": {},
   "outputs": [
    {
     "name": "stdout",
     "output_type": "stream",
     "text": [
      "[0]\tvalidation-logloss:0.46354\tvalidation-f1:0.79844\n",
      "[1]\tvalidation-logloss:0.33762\tvalidation-f1:0.79844\n",
      "[2]\tvalidation-logloss:0.25930\tvalidation-f1:0.79844\n",
      "[3]\tvalidation-logloss:0.20780\tvalidation-f1:0.79844\n",
      "[4]\tvalidation-logloss:0.17286\tvalidation-f1:0.79844\n",
      "[5]\tvalidation-logloss:0.14867\tvalidation-f1:0.79844\n",
      "[6]\tvalidation-logloss:0.13157\tvalidation-f1:0.79844\n",
      "[7]\tvalidation-logloss:0.11919\tvalidation-f1:0.79844\n"
     ]
    },
    {
     "name": "stderr",
     "output_type": "stream",
     "text": [
      "/home/mk/anaconda3/envs/mlops-venv/lib/python3.9/site-packages/xgboost/training.py:39: UserWarning: `feval` is deprecated, use `custom_metric` instead.  They have different behavior when custom objective is also used.See https://xgboost.readthedocs.io/en/latest/tutorials/custom_metric_obj.html for details on the `custom_metric`.\n",
      "  warnings.warn(\n"
     ]
    },
    {
     "name": "stdout",
     "output_type": "stream",
     "text": [
      "[8]\tvalidation-logloss:0.11038\tvalidation-f1:0.79844\n",
      "[9]\tvalidation-logloss:0.10406\tvalidation-f1:0.79844\n",
      "[10]\tvalidation-logloss:0.09932\tvalidation-f1:0.79844\n",
      "[11]\tvalidation-logloss:0.09579\tvalidation-f1:0.79844\n",
      "[12]\tvalidation-logloss:0.09285\tvalidation-f1:0.79844\n",
      "[13]\tvalidation-logloss:0.09090\tvalidation-f1:0.79844\n",
      "[14]\tvalidation-logloss:0.08897\tvalidation-f1:0.79844\n",
      "[15]\tvalidation-logloss:0.08780\tvalidation-f1:0.79844\n",
      "[16]\tvalidation-logloss:0.08691\tvalidation-f1:0.79911\n",
      "[17]\tvalidation-logloss:0.08580\tvalidation-f1:0.79978\n",
      "[18]\tvalidation-logloss:0.08527\tvalidation-f1:0.79978\n",
      "[19]\tvalidation-logloss:0.08493\tvalidation-f1:0.80044\n",
      "[20]\tvalidation-logloss:0.08428\tvalidation-f1:0.80044\n",
      "[21]\tvalidation-logloss:0.08392\tvalidation-f1:0.80111\n",
      "[22]\tvalidation-logloss:0.08369\tvalidation-f1:0.80111\n",
      "[23]\tvalidation-logloss:0.08323\tvalidation-f1:0.80111\n",
      "[24]\tvalidation-logloss:0.08306\tvalidation-f1:0.80111\n",
      "[25]\tvalidation-logloss:0.08275\tvalidation-f1:0.80066\n",
      "[26]\tvalidation-logloss:0.08271\tvalidation-f1:0.80066\n",
      "[27]\tvalidation-logloss:0.08275\tvalidation-f1:0.80066\n",
      "[28]\tvalidation-logloss:0.08282\tvalidation-f1:0.80066\n",
      "[29]\tvalidation-logloss:0.08257\tvalidation-f1:0.80066\n",
      "[30]\tvalidation-logloss:0.08262\tvalidation-f1:0.80133\n",
      "[31]\tvalidation-logloss:0.08254\tvalidation-f1:0.80199\n",
      "[32]\tvalidation-logloss:0.08249\tvalidation-f1:0.80199\n",
      "[33]\tvalidation-logloss:0.08234\tvalidation-f1:0.80199\n",
      "[34]\tvalidation-logloss:0.08230\tvalidation-f1:0.80265\n",
      "[35]\tvalidation-logloss:0.08236\tvalidation-f1:0.80265\n",
      "[36]\tvalidation-logloss:0.08236\tvalidation-f1:0.80265\n",
      "[37]\tvalidation-logloss:0.08220\tvalidation-f1:0.80265\n",
      "[38]\tvalidation-logloss:0.08217\tvalidation-f1:0.80331\n",
      "[39]\tvalidation-logloss:0.08218\tvalidation-f1:0.80331\n",
      "[40]\tvalidation-logloss:0.08227\tvalidation-f1:0.80397\n",
      "[41]\tvalidation-logloss:0.08221\tvalidation-f1:0.80441\n",
      "[42]\tvalidation-logloss:0.08222\tvalidation-f1:0.80441\n",
      "[43]\tvalidation-logloss:0.08229\tvalidation-f1:0.80441\n",
      "[44]\tvalidation-logloss:0.08233\tvalidation-f1:0.80441\n",
      "[45]\tvalidation-logloss:0.08243\tvalidation-f1:0.80441\n",
      "[46]\tvalidation-logloss:0.08244\tvalidation-f1:0.80397\n",
      "[47]\tvalidation-logloss:0.08255\tvalidation-f1:0.80397\n",
      "[48]\tvalidation-logloss:0.08255\tvalidation-f1:0.80397\n",
      "[49]\tvalidation-logloss:0.08262\tvalidation-f1:0.80397\n",
      "[50]\tvalidation-logloss:0.08263\tvalidation-f1:0.80462\n",
      "[51]\tvalidation-logloss:0.08254\tvalidation-f1:0.80462\n",
      "[52]\tvalidation-logloss:0.08250\tvalidation-f1:0.80462\n",
      "[53]\tvalidation-logloss:0.08253\tvalidation-f1:0.80462\n",
      "[54]\tvalidation-logloss:0.08252\tvalidation-f1:0.80462\n",
      "[55]\tvalidation-logloss:0.08247\tvalidation-f1:0.80418\n",
      "[56]\tvalidation-logloss:0.08248\tvalidation-f1:0.80462\n",
      "[57]\tvalidation-logloss:0.08248\tvalidation-f1:0.80462\n",
      "[58]\tvalidation-logloss:0.08249\tvalidation-f1:0.80462\n",
      "[59]\tvalidation-logloss:0.08258\tvalidation-f1:0.80462\n",
      "[60]\tvalidation-logloss:0.08252\tvalidation-f1:0.80462\n",
      "[61]\tvalidation-logloss:0.08248\tvalidation-f1:0.80462\n",
      "[62]\tvalidation-logloss:0.08249\tvalidation-f1:0.80462\n",
      "[63]\tvalidation-logloss:0.08253\tvalidation-f1:0.80462\n",
      "[64]\tvalidation-logloss:0.08250\tvalidation-f1:0.80462\n",
      "[65]\tvalidation-logloss:0.08251\tvalidation-f1:0.80462\n",
      "[66]\tvalidation-logloss:0.08250\tvalidation-f1:0.80462\n",
      "[67]\tvalidation-logloss:0.08248\tvalidation-f1:0.80462\n",
      "[68]\tvalidation-logloss:0.08246\tvalidation-f1:0.80507\n",
      "[69]\tvalidation-logloss:0.08246\tvalidation-f1:0.80507\n",
      "[70]\tvalidation-logloss:0.08258\tvalidation-f1:0.80528\n",
      "[71]\tvalidation-logloss:0.08262\tvalidation-f1:0.80528\n",
      "[72]\tvalidation-logloss:0.08268\tvalidation-f1:0.80462\n",
      "[73]\tvalidation-logloss:0.08256\tvalidation-f1:0.80528\n",
      "[74]\tvalidation-logloss:0.08267\tvalidation-f1:0.80528\n",
      "[75]\tvalidation-logloss:0.08270\tvalidation-f1:0.80528\n",
      "[76]\tvalidation-logloss:0.08271\tvalidation-f1:0.80528\n",
      "[77]\tvalidation-logloss:0.08287\tvalidation-f1:0.80528\n",
      "[78]\tvalidation-logloss:0.08299\tvalidation-f1:0.80572\n",
      "[79]\tvalidation-logloss:0.08299\tvalidation-f1:0.80572\n",
      "[80]\tvalidation-logloss:0.08312\tvalidation-f1:0.80462\n",
      "[81]\tvalidation-logloss:0.08316\tvalidation-f1:0.80440\n",
      "[82]\tvalidation-logloss:0.08312\tvalidation-f1:0.80440\n",
      "[83]\tvalidation-logloss:0.08314\tvalidation-f1:0.80440\n",
      "[84]\tvalidation-logloss:0.08310\tvalidation-f1:0.80571\n",
      "[85]\tvalidation-logloss:0.08319\tvalidation-f1:0.80615\n",
      "[86]\tvalidation-logloss:0.08316\tvalidation-f1:0.80615\n",
      "[87]\tvalidation-logloss:0.08320\tvalidation-f1:0.80571\n",
      "[88]\tvalidation-logloss:0.08319\tvalidation-f1:0.80571\n",
      "[89]\tvalidation-logloss:0.08331\tvalidation-f1:0.80461\n",
      "[90]\tvalidation-logloss:0.08323\tvalidation-f1:0.80461\n",
      "[91]\tvalidation-logloss:0.08327\tvalidation-f1:0.80527\n",
      "[92]\tvalidation-logloss:0.08325\tvalidation-f1:0.80527\n",
      "[93]\tvalidation-logloss:0.08326\tvalidation-f1:0.80527\n",
      "[94]\tvalidation-logloss:0.08329\tvalidation-f1:0.80527\n",
      "[95]\tvalidation-logloss:0.08332\tvalidation-f1:0.80527\n",
      "[96]\tvalidation-logloss:0.08345\tvalidation-f1:0.80527\n",
      "[97]\tvalidation-logloss:0.08346\tvalidation-f1:0.80527\n",
      "[98]\tvalidation-logloss:0.08346\tvalidation-f1:0.80527\n",
      "[99]\tvalidation-logloss:0.08353\tvalidation-f1:0.80527\n",
      "[100]\tvalidation-logloss:0.08354\tvalidation-f1:0.80527\n",
      "[101]\tvalidation-logloss:0.08362\tvalidation-f1:0.80527\n",
      "[102]\tvalidation-logloss:0.08363\tvalidation-f1:0.80527\n",
      "[103]\tvalidation-logloss:0.08365\tvalidation-f1:0.80527\n",
      "[104]\tvalidation-logloss:0.08377\tvalidation-f1:0.80527\n",
      "[105]\tvalidation-logloss:0.08384\tvalidation-f1:0.80483\n",
      "[106]\tvalidation-logloss:0.08383\tvalidation-f1:0.80483\n",
      "[107]\tvalidation-logloss:0.08380\tvalidation-f1:0.80483\n",
      "[108]\tvalidation-logloss:0.08396\tvalidation-f1:0.80527\n",
      "[109]\tvalidation-logloss:0.08396\tvalidation-f1:0.80527\n",
      "[110]\tvalidation-logloss:0.08411\tvalidation-f1:0.80483\n",
      "[111]\tvalidation-logloss:0.08409\tvalidation-f1:0.80548\n",
      "[112]\tvalidation-logloss:0.08412\tvalidation-f1:0.80548\n",
      "[113]\tvalidation-logloss:0.08412\tvalidation-f1:0.80548\n",
      "[114]\tvalidation-logloss:0.08416\tvalidation-f1:0.80548\n",
      "[115]\tvalidation-logloss:0.08427\tvalidation-f1:0.80548\n",
      "[116]\tvalidation-logloss:0.08439\tvalidation-f1:0.80548\n",
      "[117]\tvalidation-logloss:0.08441\tvalidation-f1:0.80548\n",
      "[118]\tvalidation-logloss:0.08449\tvalidation-f1:0.80548\n",
      "[119]\tvalidation-logloss:0.08455\tvalidation-f1:0.80548\n",
      "[120]\tvalidation-logloss:0.08454\tvalidation-f1:0.80548\n",
      "[121]\tvalidation-logloss:0.08451\tvalidation-f1:0.80548\n",
      "[122]\tvalidation-logloss:0.08451\tvalidation-f1:0.80548\n",
      "[123]\tvalidation-logloss:0.08454\tvalidation-f1:0.80592\n",
      "[124]\tvalidation-logloss:0.08467\tvalidation-f1:0.80481\n",
      "[125]\tvalidation-logloss:0.08472\tvalidation-f1:0.80481\n",
      "[126]\tvalidation-logloss:0.08484\tvalidation-f1:0.80481\n",
      "[127]\tvalidation-logloss:0.08483\tvalidation-f1:0.80481\n",
      "[128]\tvalidation-logloss:0.08481\tvalidation-f1:0.80393\n",
      "[129]\tvalidation-logloss:0.08482\tvalidation-f1:0.80393\n",
      "[130]\tvalidation-logloss:0.08491\tvalidation-f1:0.80393\n",
      "[131]\tvalidation-logloss:0.08499\tvalidation-f1:0.80437\n",
      "[132]\tvalidation-logloss:0.08501\tvalidation-f1:0.80437\n",
      "[133]\tvalidation-logloss:0.08501\tvalidation-f1:0.80437\n",
      "[134]\tvalidation-logloss:0.08501\tvalidation-f1:0.80437\n"
     ]
    }
   ],
   "source": [
    "xgb_cls = xgb.train(params, dtrain, num_boost_round=num_rounds, evals=[(dvalid, \"validation\")], maximize=True, feval=f1_eval, early_stopping_rounds=50)"
   ]
  },
  {
   "cell_type": "code",
   "execution_count": 42,
   "id": "e5c2c595",
   "metadata": {},
   "outputs": [],
   "source": [
    "y_pred_prob = xgb_cls.predict(dvalid)\n",
    "y_pred = (y_pred_prob > 0.5).astype(int)"
   ]
  },
  {
   "cell_type": "code",
   "execution_count": 43,
   "id": "2ce5ed8e",
   "metadata": {},
   "outputs": [
    {
     "name": "stdout",
     "output_type": "stream",
     "text": [
      "AUC for logisitc regrssion is: 0.978\n",
      "f1 score is: 0.808\n",
      "Precision score is: 0.957\n",
      "Recall score is: 0.699\n"
     ]
    }
   ],
   "source": [
    "model_eval(y_valid, y_pred, y_pred_prob)"
   ]
  },
  {
   "cell_type": "raw",
   "id": "962c21a9",
   "metadata": {},
   "source": [
    "From this model, we can find out that the best model in terms of both f1-score and auc score is **XGBoost** (0.808 and 0.699)."
   ]
  },
  {
   "cell_type": "code",
   "execution_count": null,
   "id": "a27d768e",
   "metadata": {},
   "outputs": [],
   "source": []
  }
 ],
 "metadata": {
  "kernelspec": {
   "display_name": "mlops-venv",
   "language": "python",
   "name": "mlops-venv"
  },
  "language_info": {
   "codemirror_mode": {
    "name": "ipython",
    "version": 3
   },
   "file_extension": ".py",
   "mimetype": "text/x-python",
   "name": "python",
   "nbconvert_exporter": "python",
   "pygments_lexer": "ipython3",
   "version": "3.9.16"
  },
  "toc": {
   "base_numbering": 1,
   "nav_menu": {},
   "number_sections": true,
   "sideBar": true,
   "skip_h1_title": false,
   "title_cell": "Table of Contents",
   "title_sidebar": "Contents",
   "toc_cell": false,
   "toc_position": {},
   "toc_section_display": true,
   "toc_window_display": false
  }
 },
 "nbformat": 4,
 "nbformat_minor": 5
}
